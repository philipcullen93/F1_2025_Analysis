{
 "cells": [
  {
   "cell_type": "markdown",
   "id": "96241b3c",
   "metadata": {},
   "source": [
    "# F1 2025 Bahrain Qualifying Analysis"
   ]
  }
 ],
 "metadata": {
  "kernelspec": {
   "display_name": "Python 3 (ipykernel)",
   "language": "python",
   "name": "python3"
  }
 },
 "nbformat": 4,
 "nbformat_minor": 5
}
